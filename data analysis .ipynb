{
    "cells": [
        {
            "cell_type": "code",
            "execution_count": 1,
            "metadata": {},
            "outputs": [
                {
                    "data": {
                        "text/html": "<div>\n<style scoped>\n    .dataframe tbody tr th:only-of-type {\n        vertical-align: middle;\n    }\n\n    .dataframe tbody tr th {\n        vertical-align: top;\n    }\n\n    .dataframe thead th {\n        text-align: right;\n    }\n</style>\n<table border=\"1\" class=\"dataframe\">\n  <thead>\n    <tr style=\"text-align: right;\">\n      <th></th>\n      <th>Mileage</th>\n      <th>Age(yrs)</th>\n      <th>Sell Price($)</th>\n    </tr>\n  </thead>\n  <tbody>\n    <tr>\n      <th>0</th>\n      <td>69000</td>\n      <td>6</td>\n      <td>18000</td>\n    </tr>\n    <tr>\n      <th>1</th>\n      <td>35000</td>\n      <td>3</td>\n      <td>34000</td>\n    </tr>\n    <tr>\n      <th>2</th>\n      <td>57000</td>\n      <td>5</td>\n      <td>26100</td>\n    </tr>\n    <tr>\n      <th>3</th>\n      <td>22500</td>\n      <td>2</td>\n      <td>40000</td>\n    </tr>\n    <tr>\n      <th>4</th>\n      <td>46000</td>\n      <td>4</td>\n      <td>31500</td>\n    </tr>\n  </tbody>\n</table>\n</div>",
                        "text/plain": "   Mileage  Age(yrs)  Sell Price($)\n0    69000         6          18000\n1    35000         3          34000\n2    57000         5          26100\n3    22500         2          40000\n4    46000         4          31500"
                    },
                    "execution_count": 1,
                    "metadata": {},
                    "output_type": "execute_result"
                }
            ],
            "source": "# The code was removed by Watson Studio for sharing."
        },
        {
            "cell_type": "code",
            "execution_count": 3,
            "metadata": {},
            "outputs": [
                {
                    "name": "stdout",
                    "output_type": "stream",
                    "text": "    Mileage  Age(yrs)  Sell Price($)\n0     69000         6          18000\n1     35000         3          34000\n2     57000         5          26100\n3     22500         2          40000\n4     46000         4          31500\n5     59000         5          26750\n6     52000         5          32000\n7     72000         6          19300\n8     91000         8          12000\n9     67000         6          22000\n10    83000         7          18700\n11    79000         7          19500\n12    59000         5          26000\n13    58780         4          27500\n14    82450         7          19400\n15    25400         3          35000\n16    28000         2          35500\n17    69000         5          19700\n18    87600         8          12800\n19    52000         5          28200\n"
                }
            ],
            "source": "print (df_data_1)"
        }
    ],
    "metadata": {
        "kernelspec": {
            "display_name": "Python 3.6",
            "language": "python",
            "name": "python3"
        },
        "language_info": {
            "codemirror_mode": {
                "name": "ipython",
                "version": 3
            },
            "file_extension": ".py",
            "mimetype": "text/x-python",
            "name": "python",
            "nbconvert_exporter": "python",
            "pygments_lexer": "ipython3",
            "version": "3.6.9"
        }
    },
    "nbformat": 4,
    "nbformat_minor": 1
}